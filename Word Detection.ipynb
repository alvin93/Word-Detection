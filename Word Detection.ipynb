{
  "nbformat": 4,
  "nbformat_minor": 0,
  "metadata": {
    "colab": {
      "name": "HW_Data_Type_and_Structure_Alvin_Christians.ipynb",
      "provenance": [],
      "collapsed_sections": []
    },
    "kernelspec": {
      "name": "python3",
      "display_name": "Python 3"
    },
    "language_info": {
      "name": "python"
    }
  },
  "cells": [
    {
      "cell_type": "code",
      "source": [
        "list_kata = [\"perang\", \"senjata\", \"bom\", \"pistol\", \"bunuh\"]\n",
        "kata = input(\"Masukkan Kalimat : \")\n",
        "kata_split = list(kata.split(' '))\n",
        "kata_sama = []\n",
        "\n",
        "for x in range(0,len(kata_split)):\n",
        "  #print(x)\n",
        "  for j in range(0,len(list_kata)):\n",
        "   #print(j)\n",
        "   if kata_split[x]==list_kata[j]:\n",
        "     print(\"Terdapat kata yang di black list yaitu \",kata_split[x])\n",
        "     kata_sama.append(kata_split[x])\n",
        "if kata_sama==[]:\n",
        "  print(\"Tidak ada kata yang di blacklist\")\n"
      ],
      "metadata": {
        "colab": {
          "base_uri": "https://localhost:8080/"
        },
        "id": "JPmJpXt2o4i0",
        "outputId": "28c46f11-9343-428d-cd91-af712ec35a9d"
      },
      "execution_count": null,
      "outputs": [
        {
          "output_type": "stream",
          "name": "stdout",
          "text": [
            "Masukkan Kalimat : saya minum\n",
            "Tidak ada kata yang di blacklist\n"
          ]
        }
      ]
    },
    {
      "cell_type": "code",
      "source": [
        "palindrome = [\"malam\", \"abba\"]\n",
        "not_palindrome = [\"python\"]\n",
        "\n",
        "kata = input(\"Masukkan Kata : \")\n",
        "kata_lower = kata.lower()\n",
        "\n",
        "hasil_palindrome = kata_lower in (string.lower() for string in palindrome)\n",
        "hasil_notpalindrome = kata_lower in (string.lower() for string in not_palindrome)\n",
        "\n",
        "if hasil_palindrome == True :\n",
        " print(kata,'is a Palindrome')\n",
        "elif hasil_notpalindrome == True :\n",
        "  print(kata,'is not a Palindrome')\n",
        "else:\n",
        "  print(\"Kata tidak ditemukan\")"
      ],
      "metadata": {
        "colab": {
          "base_uri": "https://localhost:8080/"
        },
        "id": "UPSoOlFsrPQF",
        "outputId": "da059edb-f54c-499b-8823-11191d14af79"
      },
      "execution_count": null,
      "outputs": [
        {
          "output_type": "stream",
          "name": "stdout",
          "text": [
            "Masukkan Kata : python\n",
            "python is not a Palindrome\n"
          ]
        }
      ]
    }
  ]
}